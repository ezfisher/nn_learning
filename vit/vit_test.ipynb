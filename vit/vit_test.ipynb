{
 "cells": [
  {
   "cell_type": "code",
   "execution_count": 1,
   "metadata": {},
   "outputs": [],
   "source": [
    "import numpy as np\n",
    "import cv2 as cv\n",
    "import matplotlib.pyplot as plt\n",
    "import tqdm\n",
    "import pathlib\n",
    "\n",
    "import torch\n",
    "from torch import nn\n",
    "from torch.optim import Adam\n",
    "from torch.nn import CrossEntropyLoss\n",
    "from torch.utils.data import Dataset, DataLoader\n",
    "\n",
    "from torchvision.transforms import ToTensor\n",
    "from torchvision.datasets.caltech import Caltech101"
   ]
  },
  {
   "cell_type": "code",
   "execution_count": 2,
   "metadata": {},
   "outputs": [
    {
     "name": "stdout",
     "output_type": "stream",
     "text": [
      "Files already downloaded and verified\n"
     ]
    }
   ],
   "source": [
    "caltech = Caltech101(root='/Users/ericfisher/data', download=True)"
   ]
  },
  {
   "cell_type": "code",
   "execution_count": 3,
   "metadata": {},
   "outputs": [],
   "source": [
    "class MyVIT(nn.Module):\n",
    "    def __init__(self):\n",
    "        super(MyVIT, self).__init__()\n",
    "    \n",
    "    def forward(self, X):\n",
    "        pass"
   ]
  },
  {
   "cell_type": "code",
   "execution_count": 66,
   "metadata": {},
   "outputs": [
    {
     "name": "stdout",
     "output_type": "stream",
     "text": [
      "torch.Size([32, 3, 224, 224])\n"
     ]
    }
   ],
   "source": [
    "images_path = pathlib.Path('/Users/ericfisher/data/caltech101/101_ObjectCategories/Faces/')\n",
    "images = []\n",
    "img_shape = (224, 224)\n",
    "max_num = 32\n",
    "i = 0\n",
    "for f in images_path.glob('*.jpg'):\n",
    "    if i < max_num:\n",
    "        im = cv.imread(str(f))\n",
    "        im = cv.cvtColor(im, cv.COLOR_BGR2RGB)\n",
    "        im = cv.resize(im, img_shape)\n",
    "        images.append(im)\n",
    "        i += 1\n",
    "    else:\n",
    "        break\n",
    "images = np.array(np.moveaxis(images, -1, 1))\n",
    "i_tensor = torch.Tensor(images)\n",
    "print(i_tensor.size())"
   ]
  },
  {
   "cell_type": "code",
   "execution_count": 91,
   "metadata": {},
   "outputs": [
    {
     "name": "stdout",
     "output_type": "stream",
     "text": [
      "torch.Size([32, 64, 2352])\n"
     ]
    }
   ],
   "source": [
    "# patchify image\n",
    "def input_patches(input_images, n_patches):\n",
    "    num, channels, rows, cols = i_tensor.shape\n",
    "    patch_size = rows // n_patches\n",
    "    patches = []\n",
    "    for n in range(num):\n",
    "        p = []\n",
    "        for i in range(0, rows, patch_size):\n",
    "            for j in range(0, cols, patch_size):\n",
    "                patch = i_tensor[n, :, i:i+patch_size, j:j+patch_size]\n",
    "                p.append(patch.flatten().numpy())\n",
    "        patches.append(p)\n",
    "    patches = torch.Tensor(patches)\n",
    "    return patches\n",
    "\n",
    "patches = input_patches(i_tensor, n_patches=8)\n",
    "print(patches.size())"
   ]
  },
  {
   "cell_type": "code",
   "execution_count": 89,
   "metadata": {},
   "outputs": [
    {
     "name": "stdout",
     "output_type": "stream",
     "text": [
      "torch.Size([32, 64, 2352])\n"
     ]
    }
   ],
   "source": [
    "num, channels, rows, cols = i_tensor.shape\n",
    "n_patches = 8\n",
    "patch_size = rows // n_patches\n",
    "patches = []\n",
    "for n in range(num):\n",
    "    p = []\n",
    "    for i in range(0, rows, patch_size):\n",
    "        for j in range(0, cols, patch_size):\n",
    "            patch = i_tensor[n, :, i:i+patch_size, j:j+patch_size]\n",
    "            patch = patch.flatten().numpy()\n",
    "            p.append(patch)\n",
    "    patches.append(p)\n",
    "patches = torch.Tensor(patches)\n",
    "print(patches.shape)"
   ]
  },
  {
   "cell_type": "code",
   "execution_count": 1,
   "metadata": {},
   "outputs": [
    {
     "name": "stdout",
     "output_type": "stream",
     "text": [
      "test\n"
     ]
    }
   ],
   "source": [
    "print('test')"
   ]
  },
  {
   "cell_type": "code",
   "execution_count": null,
   "metadata": {},
   "outputs": [],
   "source": []
  }
 ],
 "metadata": {
  "kernelspec": {
   "display_name": "Python 3",
   "language": "python",
   "name": "python3"
  },
  "language_info": {
   "codemirror_mode": {
    "name": "ipython",
    "version": 3
   },
   "file_extension": ".py",
   "mimetype": "text/x-python",
   "name": "python",
   "nbconvert_exporter": "python",
   "pygments_lexer": "ipython3",
   "version": "3.10.8"
  },
  "orig_nbformat": 4,
  "vscode": {
   "interpreter": {
    "hash": "b0fa6594d8f4cbf19f97940f81e996739fb7646882a419484c72d19e05852a7e"
   }
  }
 },
 "nbformat": 4,
 "nbformat_minor": 2
}
